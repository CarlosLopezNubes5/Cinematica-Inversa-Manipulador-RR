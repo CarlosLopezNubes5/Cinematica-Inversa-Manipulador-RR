{
 "cells": [
  {
   "cell_type": "markdown",
   "metadata": {},
   "source": [
    "<center>\n",
    "<h1> Cinematica Inversa para manipulaores</h1>\n",
    "<font color=\"blue\" size=\"4\"><b>\n",
    "Manipulador \"RR\" <br>\n",
    "Fundamentos de Robótica <br>\n",
    "</b></font></br>\n",
    "<i>Alumno: José Carlos López Arriaga</i>\n",
    "</center>\n",
    "\n"
   ]
  },
  {
   "cell_type": "code",
   "execution_count": 3,
   "metadata": {},
   "outputs": [],
   "source": [
    "from sympy import*\n",
    "from sympy.matrices import*\n",
    "import numpy as np\n",
    "import matplotlib.pyplot as plt\n",
    "%matplotlib inline\n",
    "init_printing(use_latex = true)"
   ]
  },
  {
   "cell_type": "markdown",
   "metadata": {},
   "source": [
    "### Funcion que realiza el metodo de Newton-Raphson"
   ]
  },
  {
   "cell_type": "code",
   "execution_count": 4,
   "metadata": {},
   "outputs": [],
   "source": [
    "def NewtonRaphson(J, b, X0, vals, eps = 1e-5): # J = matriz jacobiabana, b = error, X0 = supocisio del valor, eps = toleracncia del error\n",
    "    k = 1\n",
    "    b = b.subs(vals).evalf()\n",
    "    while true:\n",
    "        x = ((J.subs(X0).subs(vals)).inv()*b.subs(X0)).evalf()\n",
    "        if x.norm() < eps: break\n",
    "        for jj, ky in enumerate(X0):\n",
    "                X0[ky] += (x[jj]).evalf()\n",
    "        k += 1\n",
    "    return X0, x, k"
   ]
  },
  {
   "cell_type": "markdown",
   "metadata": {},
   "source": [
    "### Manipulador RR\n",
    "$P_x$ = La posicion en x del extremo del manipulador a la que se desea llegar\n",
    "\n",
    "$P_y$ = la Posicione n y del extremo del manipulador a la que se desea llegar\n",
    "\n",
    "$L_1$ y $L_2$ son las dimensiones conocidas de los eslabones del manipulador\n",
    "\n",
    "$\\theta_1$ y $\\theta_2$ son los valores que necesitamos conocer para que el manipulador quede en las coordenadas $P_x$, $P_y$"
   ]
  },
  {
   "cell_type": "code",
   "execution_count": 5,
   "metadata": {},
   "outputs": [],
   "source": [
    "theta1, theta2 = symbols(\"\\\\theta_1, \\\\theta_2\")\n",
    "Px = 50\n",
    "Py = 120\n",
    "L1 = 100\n",
    "L2 = 100\n",
    "\n",
    "F1 = L1*cos(theta1) + L2*cos(theta1 + theta2) - Px\n",
    "F2 = L1*sin(theta1) + L2*sin(theta1 + theta2) - Py"
   ]
  },
  {
   "cell_type": "markdown",
   "metadata": {},
   "source": [
    "### Jacobiano de las ecuaciones resultantes y aplicacion de Newton-Raphson"
   ]
  },
  {
   "cell_type": "code",
   "execution_count": 6,
   "metadata": {},
   "outputs": [],
   "source": [
    "F = Matrix([F1, F2])\n",
    "J = F.jacobian([theta1, theta2]) #Para calcular el jacobiano de una matriz [incognitas]\n",
    "X0 = {theta1:pi/6, theta2:pi/6}  #Variables que se desean conocer colocadas en un diccionario\n",
    "\n",
    "Xs, X, K = NewtonRaphson(J, -F, X0, {})"
   ]
  },
  {
   "cell_type": "markdown",
   "metadata": {},
   "source": [
    "### Valores obtenidos de $\\theta_1$ y $\\theta_2$"
   ]
  },
  {
   "cell_type": "code",
   "execution_count": 7,
   "metadata": {
    "scrolled": true
   },
   "outputs": [
    {
     "name": "stdout",
     "output_type": "stream",
     "text": [
      "θ1 = 17.9217°\n",
      "θ2 = 98.9168°\n"
     ]
    }
   ],
   "source": [
    "theta1R = (Xs[theta1]*180/pi).evalf(6)\n",
    "theta2R = (Xs[theta2]*180/pi).evalf(6)\n",
    "\n",
    "print(f\"θ1 = {theta1R}°\")\n",
    "print(f\"θ2 = {theta2R}°\")"
   ]
  },
  {
   "cell_type": "markdown",
   "metadata": {},
   "source": [
    "### Funciones para dibujar eslabones, matriz de Denavit-Hartenberg, dibujar sistemas de referencia"
   ]
  },
  {
   "cell_type": "code",
   "execution_count": 8,
   "metadata": {},
   "outputs": [],
   "source": [
    "#Function para realizar el grafico de los eslabones\n",
    "def plotlink(p0, u, *args, **kwargs):\n",
    "    plt.plot([p0[0],p0[0]+u[0]], [p0[1],p0[1]+u[1]], *args, **kwargs)\n",
    "\n",
    "#Funcion para la matriz de Denavit-Hartenberg\n",
    "def MDH(ai, alphai, di, thetai):\n",
    "    thetaic = thetai\n",
    "    alphaic = alphai\n",
    "    \n",
    "    M = Matrix([\n",
    "        [cos(thetaic), -sin(thetaic)*cos(alphaic),  sin(thetaic)*sin(alphaic), ai*cos(thetaic)],\n",
    "        [sin(thetaic),  cos(thetaic)*cos(alphaic), -cos(thetaic)*sin(alphaic), ai*sin(thetaic)],\n",
    "        [0,             sin(alphaic),               cos(alphaic),              di],\n",
    "        [0,             0,                          0,                         1]\n",
    "    ])\n",
    "    \n",
    "    return M\n",
    "#Funcion para dibujar los sistemas de referencia\n",
    "def draw_uv(T):\n",
    "    O = T[:3, 3]\n",
    "    U = T[:3, 0]\n",
    "    V = T[:3, 1]\n",
    "    plt.quiver(float(O[0]), float(O[1]), float(U[0]), float(U[1]), color = \"r\")\n",
    "    plt.quiver(float(O[0]), float(O[1]), float(V[0]), float(V[1]), color = \"g\")"
   ]
  },
  {
   "cell_type": "markdown",
   "metadata": {},
   "source": [
    "### Visualizacion del manipulador de modo grafico"
   ]
  },
  {
   "cell_type": "code",
   "execution_count": 9,
   "metadata": {},
   "outputs": [
    {
     "data": {
      "image/png": "[encoded data removed]",
      "text/plain": [
       "<matplotlib.figure.Figure at 0x1a2adba1f60>"
      ]
     },
     "metadata": {},
     "output_type": "display_data"
    }
   ],
   "source": [
    "H01 = MDH(L1, 0, 0, Xs[theta1])\n",
    "H12 = MDH(L2, 0, 0, Xs[theta2])\n",
    "H02 = H01*H12\n",
    "\n",
    "theta01 = Xs[theta1] + Xs[theta2] #Theta2 medida desde el sistema de referencia 1\n",
    "\n",
    "Pr1 = np.array([H01[0,3], H01[1,3], 0])\n",
    "Pr2 = np.array([L2*cos(theta01), L2*sin(theta01), 0])\n",
    "\n",
    "plt.cla\n",
    "plotlink([0,0], Pr1, label = \"$L1$\")\n",
    "plotlink(Pr1, Pr2, label = \"$L2$\")\n",
    "\n",
    "draw_uv(eye(4))\n",
    "draw_uv(H01)\n",
    "draw_uv(H02)\n",
    "\n",
    "plt.axis(\"equal\")\n",
    "plt.legend()\n",
    "plt.title(\"Manipulador RR\")\n",
    "plt.show()"
   ]
  },
  {
   "cell_type": "code",
   "execution_count": null,
   "metadata": {},
   "outputs": [],
   "source": []
  }
 ],
 "metadata": {
  "kernelspec": {
   "display_name": "Python 3",
   "language": "python",
   "name": "python3"
  },
  "language_info": {
   "codemirror_mode": {
    "name": "ipython",
    "version": 3
   },
   "file_extension": ".py",
   "mimetype": "text/x-python",
   "name": "python",
   "nbconvert_exporter": "python",
   "pygments_lexer": "ipython3",
   "version": "3.6.4"
  }
 },
 "nbformat": 4,
 "nbformat_minor": 2
}
